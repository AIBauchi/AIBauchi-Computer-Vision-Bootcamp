{
 "cells": [
  {
   "cell_type": "code",
   "execution_count": 7,
   "metadata": {},
   "outputs": [
    {
     "name": "stderr",
     "output_type": "stream",
     "text": [
      "'wget' is not recognized as an internal or external command,\n",
      "operable program or batch file.\n"
     ]
    }
   ],
   "source": [
    "!wget https://github.com/THU-MIG/yolov10/releases/download/v1.1/yolov10n.pt"
   ]
  },
  {
   "cell_type": "code",
   "execution_count": null,
   "metadata": {},
   "outputs": [
    {
     "name": "stdout",
     "output_type": "stream",
     "text": [
      "\n",
      "\n",
      "image 1/1 c:\\Users\\MrRobot\\Desktop\\AIBauchi-Computer-Vision-Bootcamp\\Week5\\day3\\image.jpg: 448x640 20 cars, 13256.1ms\n",
      "image 1/1 c:\\Users\\MrRobot\\Desktop\\AIBauchi-Computer-Vision-Bootcamp\\Week5\\day3\\image.jpg: 448x640 20 cars, 13256.1ms\n",
      "Speed: 1373.2ms preprocess, 13256.1ms inference, 3518.3ms postprocess per image at shape (1, 3, 448, 640)\n",
      "Speed: 1373.2ms preprocess, 13256.1ms inference, 3518.3ms postprocess per image at shape (1, 3, 448, 640)\n"
     ]
    }
   ],
   "source": [
    "from ultralytics import YOLOv10\n",
    "\n",
    "# Load the pre-trained YOLOv10-N model\n",
    "model = YOLOv10(\"yolov10n.pt\")\n",
    "# results = model(\"image.jpg\")\n",
    "# results[0].show()"
   ]
  },
  {
   "cell_type": "code",
   "execution_count": null,
   "metadata": {},
   "outputs": [
    {
     "name": "stdout",
     "output_type": "stream",
     "text": [
      "Downloading https://github.com/ultralytics/assets/releases/download/v8.1.0/yolov8n.pt to 'yolov8n.pt'...\n",
      "Downloading https://github.com/ultralytics/assets/releases/download/v8.1.0/yolov8n.pt to 'yolov8n.pt'...\n"
     ]
    },
    {
     "name": "stderr",
     "output_type": "stream",
     "text": [
      "100%|██████████| 6.23M/6.23M [00:08<00:00, 772kB/s] \n",
      "c:\\Users\\MrRobot\\anaconda3\\Lib\\site-packages\\ultralytics\\nn\\tasks.py:733: FutureWarning: You are using `torch.load` with `weights_only=False` (the current default value), which uses the default pickle module implicitly. It is possible to construct malicious pickle data which will execute arbitrary code during unpickling (See https://github.com/pytorch/pytorch/blob/main/SECURITY.md#untrusted-models for more details). In a future release, the default value for `weights_only` will be flipped to `True`. This limits the functions that could be executed during unpickling. Arbitrary objects will no longer be allowed to be loaded via this mode unless they are explicitly allowlisted by the user via `torch.serialization.add_safe_globals`. We recommend you start setting `weights_only=True` for any use case where you don't have full control of the loaded file. Please open an issue on GitHub for any issues related to this experimental feature.\n",
      "  ckpt = torch.load(file, map_location=\"cpu\")\n"
     ]
    }
   ],
   "source": [
    "import cv2\n",
    "\n",
    "# Initialize the webcam\n",
    "cap = cv2.VideoCapture(0)\n",
    "\n",
    "while True:\n",
    "    ret, frame = cap.read()\n",
    "\n",
    "    if not ret:\n",
    "        break\n",
    "\n",
    "    # Perform inference on the current frame\n",
    "    results = model(frame)[0]\n",
    "\n",
    "    # Extract the bounding boxes and their corresponding confidence scores\n",
    "    for result in results:\n",
    "        boxes = result.boxes  # Detected bounding boxes\n",
    "        for box in boxes:\n",
    "            # Get the coordinates of the bounding box\n",
    "            x1, y1, x2, y2 = box.xyxy[0].astype(int)\n",
    "\n",
    "            # Get the confidence score\n",
    "            confidence = box.conf[0]\n",
    "\n",
    "            # Get the class label\n",
    "            class_id = int(box.cls[0])\n",
    "            class_name = results.names[class_id]\n",
    "\n",
    "            # Plot the bounding box and label on the frame\n",
    "            cv2.rectangle(frame, (x1, y1), (x2, y2), (0, 255, 0), 2)\n",
    "            label = f\"{class_name} {confidence:.2f}\"\n",
    "            cv2.putText(frame, label, (x1, y1 - 10), cv2.FONT_HERSHEY_SIMPLEX, 0.5, (0, 255, 0), 2)\n",
    "\n",
    "    # Display the frame\n",
    "    cv2.imshow(\"YOLOv8 Real-Time Detection\", frame)\n",
    "\n",
    "    # Press 'q' to quit\n",
    "    if cv2.waitKey(1) & 0xFF == ord('q'):\n",
    "        break\n",
    "\n",
    "# Release the webcam and close windows\n",
    "cap.release()\n",
    "cv2.destroyAllWindows()\n"
   ]
  },
  {
   "cell_type": "code",
   "execution_count": null,
   "metadata": {},
   "outputs": [],
   "source": []
  }
 ],
 "metadata": {
  "kernelspec": {
   "display_name": "base",
   "language": "python",
   "name": "python3"
  },
  "language_info": {
   "codemirror_mode": {
    "name": "ipython",
    "version": 3
   },
   "file_extension": ".py",
   "mimetype": "text/x-python",
   "name": "python",
   "nbconvert_exporter": "python",
   "pygments_lexer": "ipython3",
   "version": "3.12.3"
  }
 },
 "nbformat": 4,
 "nbformat_minor": 2
}
