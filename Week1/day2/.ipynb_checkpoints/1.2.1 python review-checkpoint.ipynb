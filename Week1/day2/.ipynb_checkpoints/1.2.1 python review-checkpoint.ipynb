{
 "cells": [
  {
   "cell_type": "markdown",
   "id": "7ca05b6f-10be-426b-9332-143b87b8d438",
   "metadata": {},
   "source": [
    "# AI Bauchi 6 Weeks Computer Vision Bootcamp\n",
    "<div style=\"display: flex; justify-content: space-evenly; align-items: center; width: 100%;\">\n",
    "<img src=\"../../logos\\aib.png\" width='100px'/>\n",
    "<img src=\"https://encrypted-tbn0.gstatic.com/images?q=tbn:ANd9GcQeyMRtudTwUIhRHGT1VKvVbnRYTu8VaQtaHg&s\" width='100px'/>\n",
    "<img src=\"https://miro.medium.com/v2/resize:fit:800/0*qa3Uh-1JZUhCuBVK.png\" width='100px'/>\n",
    "</div>\n",
    "### Session 2: Python Basics\n",
    "\n",
    "Welcome to Day 2 of our Computer Vision Bootcamp! Today, we will dive into the basics of Python programming tailored specifically for applications in Computer Vision.\n",
    "\n",
    "#### Why Python for Computer Vision?\n",
    "Python is a versatile and beginner-friendly programming language widely used in scientific computing and machine learning. Its simplicity and powerful libraries make it ideal for implementing algorithms and processing image data in Computer Vision.\n",
    "\n",
    "#### Topics Covered:\n",
    "1. **Basic Syntax and Data Structures:** Variables, loops, conditionals, lists, and dictionaries.\n",
    "2. **Introduction to Digital Images:** Understanding image representation and formats.\n",
    "3. **Python Libraries for Computer Vision:** Introduction to OpenCV and NumPy.\n",
    "\n",
    "### Python Examples for Computer Vision\n",
    "\n",
    "### Review: Python Basics\n",
    "\n",
    "#### 1. Variables and Basic Operations\n",
    "Variables store data values. Python supports various types:"
   ]
  },
  {
   "cell_type": "code",
   "execution_count": 1,
   "id": "583f3465-4a4b-4f13-9232-f6dcbe3c3b07",
   "metadata": {},
   "outputs": [],
   "source": [
    "# Define variables\n",
    "x = 5  # integer\n",
    "y = 2.5  # float\n",
    "name = 'Engr Nasiru'  # string"
   ]
  },
  {
   "cell_type": "code",
   "execution_count": 2,
   "id": "588ba2e0-cd3e-4c18-97f6-dcc888ea7a62",
   "metadata": {},
   "outputs": [
    {
     "name": "stdout",
     "output_type": "stream",
     "text": [
      "7.5\n"
     ]
    }
   ],
   "source": [
    "# Basic operations\n",
    "\n",
    "z = x + y  # addition\n",
    "print(z)  # output: 7.5"
   ]
  },
  {
   "cell_type": "code",
   "execution_count": 17,
   "id": "2d67bb73-f001-4163-a274-30847c5b17c2",
   "metadata": {},
   "outputs": [
    {
     "name": "stdout",
     "output_type": "stream",
     "text": [
      "Hello, AI Bauchi\n"
     ]
    }
   ],
   "source": [
    "greeting = 'Hello, ' + name\n",
    "print(greeting)  # Output: Hello, Engr Nasiru"
   ]
  },
  {
   "cell_type": "markdown",
   "id": "b0207867-da48-478f-b184-5ef085552a0d",
   "metadata": {},
   "source": [
    "comment in python are just #.\n",
    "python \n",
    "#### 2. Python Datatypes"
   ]
  },
  {
   "cell_type": "code",
   "execution_count": 3,
   "id": "f3f77a2e-3be7-4efa-9b97-0fa55971ca78",
   "metadata": {},
   "outputs": [
    {
     "name": "stdout",
     "output_type": "stream",
     "text": [
      "<class 'int'>\n"
     ]
    }
   ],
   "source": [
    "# Integer\n",
    "x = 5\n",
    "print(type(x))  # output: <class 'int'>"
   ]
  },
  {
   "cell_type": "code",
   "execution_count": 4,
   "id": "6121b23a-0bf3-4df8-988e-c1bff986467e",
   "metadata": {},
   "outputs": [
    {
     "name": "stdout",
     "output_type": "stream",
     "text": [
      "<class 'float'>\n"
     ]
    }
   ],
   "source": [
    "# Float\n",
    "y = 2.5\n",
    "print(type(y))  # output: <class 'float'>"
   ]
  },
  {
   "cell_type": "code",
   "execution_count": 5,
   "id": "c1881075-3921-4631-9174-3b1c14de119e",
   "metadata": {},
   "outputs": [
    {
     "name": "stdout",
     "output_type": "stream",
     "text": [
      "<class 'complex'>\n"
     ]
    }
   ],
   "source": [
    "# Complex\n",
    "z = 3 + 4j\n",
    "print(type(z))  # output: <class 'complex'>"
   ]
  },
  {
   "cell_type": "code",
   "execution_count": 8,
   "id": "0ee8c32e-c8d1-4789-952b-840df5c6f247",
   "metadata": {},
   "outputs": [
    {
     "name": "stdout",
     "output_type": "stream",
     "text": [
      "<class 'str'>\n"
     ]
    }
   ],
   "source": [
    "# String\n",
    "name = \"AI Bauchi\"\n",
    "\n",
    "print(type(name))"
   ]
  },
  {
   "cell_type": "markdown",
   "id": "3aa1c9b0-a908-4b1a-8396-16d4f85d3896",
   "metadata": {},
   "source": [
    "#### 3. Sequence Types: list, tuple, range"
   ]
  },
  {
   "cell_type": "code",
   "execution_count": 9,
   "id": "cad43927-c389-455d-89bf-adbac77d8b94",
   "metadata": {},
   "outputs": [
    {
     "name": "stdout",
     "output_type": "stream",
     "text": [
      "3\n"
     ]
    }
   ],
   "source": [
    "# List: mutable, ordered\n",
    "numbers = [1, 2, 3, 4, 5]\n",
    "print(numbers[2])  # output: 3"
   ]
  },
  {
   "cell_type": "code",
   "execution_count": 10,
   "id": "abd67b44-d18b-4d99-8b37-20ed17fde8af",
   "metadata": {},
   "outputs": [
    {
     "name": "stdout",
     "output_type": "stream",
     "text": [
      "3\n"
     ]
    }
   ],
   "source": [
    "# Tuple: immutable, ordered\n",
    "coordinates = (3, 4)\n",
    "print(coordinates[0])  # output: 3"
   ]
  },
  {
   "cell_type": "code",
   "execution_count": 11,
   "id": "958d88a5-e622-4ea1-ae82-82002d24c424",
   "metadata": {},
   "outputs": [
    {
     "name": "stdout",
     "output_type": "stream",
     "text": [
      "[0, 1, 2, 3, 4]\n"
     ]
    }
   ],
   "source": [
    "# Range: immutable, ordered\n",
    "r = range(5)\n",
    "print(list(r))  # output: [0, 1, 2, 3, 4]"
   ]
  },
  {
   "cell_type": "code",
   "execution_count": 14,
   "id": "f98bae8d-2921-4df8-b0e6-3949ac45cf06",
   "metadata": {},
   "outputs": [
    {
     "name": "stdout",
     "output_type": "stream",
     "text": [
      "[10, 11, 12, 13, 14, 15, 16, 17, 18, 19, 20, 21, 22]\n"
     ]
    }
   ],
   "source": [
    "# Slicing\n",
    "r = range(25)\n",
    "print(list(r[10:23]))"
   ]
  },
  {
   "cell_type": "markdown",
   "id": "2482c45b-19e4-4386-ab89-1e81d4c2e40a",
   "metadata": {},
   "source": [
    "### 3. Mapping Type: dict"
   ]
  },
  {
   "cell_type": "code",
   "execution_count": 16,
   "id": "3b523500-863a-4b5f-b419-6995492ce217",
   "metadata": {},
   "outputs": [
    {
     "name": "stdout",
     "output_type": "stream",
     "text": [
      "6\n"
     ]
    }
   ],
   "source": [
    "# Dictionary: mutable, unordered\n",
    "Course = {'Course': 'Computer Vision', 'type': \"BootCamp\", 'Duration': 6, 'location':'Nascomsoft Hub'}\n",
    "print(Course['Duration'])  # output: 6\n"
   ]
  },
  {
   "cell_type": "markdown",
   "id": "85c07865-ea6b-46a2-beb5-a7b315e406ad",
   "metadata": {},
   "source": [
    "#### 4. Loops\n",
    "Loops are used to iterate over a sequence of elements."
   ]
  },
  {
   "cell_type": "code",
   "execution_count": null,
   "id": "d15da359-5e0c-4f59-a026-b121893a0d24",
   "metadata": {},
   "outputs": [],
   "source": [
    "# For Loop\n",
    "for i in range(5):\n",
    "    print(i)  # Output: 0, 1, 2, 3, 4\n",
    "\n",
    "# While Loop\n",
    "count = 0\n",
    "while count < 5:\n",
    "    print(count)\n",
    "    count += 1  # Output: 0, 1, 2, 3, 4\n"
   ]
  },
  {
   "cell_type": "markdown",
   "id": "741332bb-c53f-418b-adbe-bf46c967a1ea",
   "metadata": {},
   "source": [
    "#### 5. Conditions\n",
    "Conditional statements allow us to execute different blocks of code based on specific conditions."
   ]
  },
  {
   "cell_type": "code",
   "execution_count": 2,
   "id": "4930b0b8-6e44-4208-b628-ddd26cde2a3d",
   "metadata": {},
   "outputs": [
    {
     "name": "stdin",
     "output_type": "stream",
     "text": [
      " 5\n"
     ]
    },
    {
     "name": "stdout",
     "output_type": "stream",
     "text": [
      "Positive\n"
     ]
    }
   ],
   "source": [
    "# Conditional Statements\n",
    "x = int(input())\n",
    "if x > 0:\n",
    "    print('Positive')\n",
    "elif x < 0:\n",
    "    print('Negative')\n",
    "else:\n",
    "    print('Zero')\n"
   ]
  },
  {
   "cell_type": "markdown",
   "id": "9d84f2b7-95fc-456f-876a-70739b8c8a1f",
   "metadata": {},
   "source": [
    "#### 6. Functions\n",
    "Functions are reusable blocks of code that perform a specific task."
   ]
  },
  {
   "cell_type": "code",
   "execution_count": 4,
   "id": "de937a3a-c06c-4fa2-84fa-3d9e64d3e473",
   "metadata": {},
   "outputs": [
    {
     "name": "stdout",
     "output_type": "stream",
     "text": [
      "Hello, Stanley\n"
     ]
    }
   ],
   "source": [
    "# Defining a Function\n",
    "def greet(name):\n",
    "    return 'Hello, ' + name\n",
    "\n",
    "# Calling a Function\n",
    "print(greet('Stanley'))  # Output: Hello, Alice"
   ]
  },
  {
   "cell_type": "markdown",
   "id": "fe7bb434-f5df-4139-96ec-e8e372885899",
   "metadata": {},
   "source": [
    "#### 7. Classes\n",
    "Classes are blueprints for creating objects. They encapsulate data and functions together."
   ]
  },
  {
   "cell_type": "code",
   "execution_count": 8,
   "id": "d7914413-e8e5-4489-a96c-905165587b60",
   "metadata": {},
   "outputs": [
    {
     "name": "stdout",
     "output_type": "stream",
     "text": [
      "Hello, my name is Amina and I am 30 years old.\n"
     ]
    }
   ],
   "source": [
    "# Defining a Class\n",
    "class Person:\n",
    "    def __init__(self, name, age):\n",
    "        self.name = name\n",
    "        self.age = age\n",
    "\n",
    "    def greet(self):\n",
    "        return f'Hello, my name is {self.name} and I am {self.age} years old.'\n",
    "\n",
    "# Creating an Object\n",
    "amina = Person('Amina', 30)\n",
    "\n",
    "# Accessing Methods and Attributes\n",
    "print(amina.greet())  # Output: Hello, my name is Amina and I am 30 years old.\n"
   ]
  },
  {
   "cell_type": "markdown",
   "id": "5e22fc40-e2a4-439a-bb61-78b9b0cda48e",
   "metadata": {},
   "source": [
    "### Next Steps:\n",
    "- Practice using Python basics to manipulate and process image data.\n",
    "- Explore more advanced Python functionalities and libraries used in Computer Vision."
   ]
  }
 ],
 "metadata": {
  "kernelspec": {
   "display_name": "Python 3 (ipykernel)",
   "language": "python",
   "name": "python3"
  },
  "language_info": {
   "codemirror_mode": {
    "name": "ipython",
    "version": 3
   },
   "file_extension": ".py",
   "mimetype": "text/x-python",
   "name": "python",
   "nbconvert_exporter": "python",
   "pygments_lexer": "ipython3",
   "version": "3.12.1"
  }
 },
 "nbformat": 4,
 "nbformat_minor": 5
}
