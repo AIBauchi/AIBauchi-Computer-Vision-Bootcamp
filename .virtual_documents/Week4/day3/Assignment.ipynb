# https://drive.google.com/file/d/1OxmGA6YxquGzoNL3erb6exgGWjeWp5Lb/view?usp=sharing
!gdown --id 1OxmGA6YxquGzoNL3erb6exgGWjeWp5Lb





!unzip -q assignment.zip


train_dir = 'assignment/train'
test_dir = 'assignment/test'

import tensorflow as tf
from tensorflow.keras.preprocessing.image import ImageDataGenerator


train_datagen = ImageDataGenerator(
    rescale=1./255,
    rotation_range=40,
    zoom_range=0.2,
    horizontal_flip=True,
    validation_split=0.2
)

test_datagen = ImageDataGenerator(rescale=1./255)




train_generator = train_datagen.flow_from_directory(
    train_dir,
    target_size=(224, 224),
    batch_size=32,
    class_mode='categorical',
    subset='training'
)

validation_generator = train_datagen.flow_from_directory(
    train_dir,
    target_size=(224, 224),
    batch_size=32,
    class_mode='categorical',
    subset='validation'
)






from tensorflow.keras.applications import ResNet50
from tensorflow.keras.models import Model
from tensorflow.keras.layers import Dense, GlobalAveragePooling2D
from tensorflow.keras.optimizers import Adam

# Load ResNet50 model pre-trained on ImageNet
base_model = ResNet50(weights='imagenet', include_top=False, input_shape=(224, 224, 3))

# Add custom layers
x = base_model.output
x = GlobalAveragePooling2D()(x)
x = Dense(1024, activation='relu')(x)
predictions = Dense(train_generator.num_classes, activation='softmax')(x)



model = Model(inputs=base_model.input, outputs=predictions)

# Freeze the layers of the pre-trained model
for layer in base_model.layers[-50:]:
    layer.trainable = False


model.summary()


model.compile(optimizer=Adam(learning_rate=0.001), loss='categorical_crossentropy', metrics=['accuracy'])


model.fit(train_generator,
    epochs=10,
    validation_data=validation_generator)


model.fit(train_generator,
    epochs=5,
    validation_data=validation_generator)


# Data generator for test set
test_datagen = ImageDataGenerator(rescale=1./255)

# Ensure
test_generator = test_datagen.flow_from_directory(
    test_dir,
    target_size=(224, 224),
    batch_size=1,
    class_mode=None,
    shuffle=False,
    classes = None
)

# Predict labels for the test set
predictions = model.predict(test_generator)
predicted_classes = predictions.argmax(axis=-1)



import pandas as pd

# Get filenames and remove extensions
filenames = test_generator.filenames
ids = [filename.split('/')[-1].split('.')[0] for filename in filenames]

# Create DataFrame
submission_df = pd.DataFrame({'id': ids, 'label': predicted_classes})

# Save to CSV
submission_df.to_csv('submission.csv', index=False)



class_indices = train_generator.class_indices
class_indices


submission_df["Names"] = submission_df["label"].map(class_indices)


submission_df.head()


model.save("model.keras")



