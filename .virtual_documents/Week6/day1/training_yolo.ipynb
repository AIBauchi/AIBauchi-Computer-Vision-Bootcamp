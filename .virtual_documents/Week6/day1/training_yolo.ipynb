!pip install ultralytics


!unzip -q /content/dataset.zip


from ultralytics import YOLO

model = YOLO("yolov8s.pt")


results = model.train(data="dec.yaml", epochs=10, imgsz=640)


result  = model("/content/test", save = True)


# prompt: display all images in result[0].save_dir
import os
from IPython.display import Image, display

for image_file in os.listdir(result[0].save_dir):
  if image_file.endswith(('.jpg', '.jpeg', '.png', '.gif')):
    display(Image(filename=os.path.join(result[0].save_dir, image_file)))



from ultralytics import YOLO


traker = YOLO("yolov8s.pt")


result = traker.track('track.mp4',save = True)


result[0].save_dir


# prompt: download files in runs/detect/track

!zip -r /content/file.zip /content/runs/detect/track
from google.colab import files
files.download("/content/file.zip")



seg = YOLO("yolov8m-seg.pt")


result = seg("/content/download (3).png", save = True)



