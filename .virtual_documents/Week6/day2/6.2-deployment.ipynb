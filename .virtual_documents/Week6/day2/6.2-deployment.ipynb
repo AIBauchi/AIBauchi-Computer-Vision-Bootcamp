











!pip install supervision git+https://github.com/THU-MIG/yolov10.git


from ultralytics import YOLO



