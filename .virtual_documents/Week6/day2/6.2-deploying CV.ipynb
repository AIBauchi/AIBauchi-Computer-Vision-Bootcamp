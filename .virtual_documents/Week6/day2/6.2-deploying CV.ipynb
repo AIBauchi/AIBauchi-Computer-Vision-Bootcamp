














%pip install Flask





from flask import Flask, request, jsonify

app = Flask(__name__)

@app.route('/')
def home():
    return jsonify({'objects': ['car', 'truck', 'bus']})

if __name__ == '__main__':
    app.run()






python app.py








from flask import Flask, request, jsonify
from ultralytics import YOLO
from PIL import Image

app = Flask(__name__)

model = YOLO('yolov8s.pt')

@app.route('/detect', methods=['POST'])
def detect():
    image = request.files['image']
    result = model(image, save=True)
    output_image = Image.open(result[0].save_dir)
    return jsonify({'image': output_image})

@app.route('/')
def home():
    return 'Object Detection API'

if __name__ == '__main__':
    app.run()






!pip install gradio





import gradio as gr
import cv2
from Ultralytics import YOLO

# Load the YOLO model
model = YOLO("yolov8s.pt")

def object_detection(image):
    # Perform object detection
    result = model(image, save=True)
    image = cv2.imread(result[0].save_dir)
    return image

# Create a Gradio interface
iface = gr.Interface(fn=object_detection, inputs="image", outputs="image")
iface.launch()



