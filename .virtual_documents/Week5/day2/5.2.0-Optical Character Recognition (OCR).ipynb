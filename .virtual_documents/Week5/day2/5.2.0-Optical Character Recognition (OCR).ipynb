





!pip install pytesseract





import cv2
import pytesseract

# Load the image
image = cv2.imread('images/image.png')

# Convert the image to grayscale
gray_image = cv2.cvtColor(image, cv2.COLOR_BGR2GRAY)
threshold_img = cv2.threshold(gray_image, 0, 255, cv2.THRESH_BINARY | cv2.THRESH_OTSU)[1]

# Use pytesseract to detect text
text = pytesseract.image_to_string(threshold_img)

# Print the text
print(text)






