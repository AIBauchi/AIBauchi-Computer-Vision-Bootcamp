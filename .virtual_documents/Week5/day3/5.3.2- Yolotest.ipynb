!wget https://github.com/THU-MIG/yolov10/releases/download/v1.1/yolov10n.pt

# 


from ultralytics import YOLOv10

# Load the pre-trained YOLOv10-N model
model = YOLOv10("yolov10n.pt")
results = model("image.jpg", save = True)
# results[0].show()


print(results[0])


import cv2

# Initialize the webcam
cap = cv2.VideoCapture(1)

while True:
    ret, frame = cap.read()

    if not ret:
        break

    # Perform inference on the current frame
    results = model(frame)[0]

    # Extract the bounding boxes and their corresponding confidence scores

    boxes = results.boxes  # Detected bounding boxes
    for box in boxes:
        # Get the coordinates of the bounding box
        x1, y1, x2, y2 = box.xyxy[0]

        # Get the confidence score
        confidence = box.conf[0]

        # Get the class label
        class_id = int(box.cls[0])
        class_name = results.names[class_id]

        # Plot the bounding box and label on the frame
        cv2.rectangle(frame, (int(x1), int(y1)), (int(x2), int(y2)), (0, 255, 0), 2)
        label = f"{class_name} {confidence:.2f}"
        cv2.putText(frame, label, (int(x1), int(y1) - 10), cv2.FONT_HERSHEY_SIMPLEX, 0.5, (0, 255, 0), 2)

    # Display the frame
    cv2.imshow("AI Bauchi Real-Time Detection with Yolo", frame)

    # Press 'q' to quit
    if cv2.waitKey(1) & 0xFF == ord('q'):
        break

# Release the webcam and close windows
cap.release()
cv2.destroyAllWindows()


boxes = results.boxes  # Detected bounding boxes
for box in boxes:
    x1, y1, x2, y2 = box.xyxy[0]


# Release the webcam and close windows
cap.release()
cv2.destroyAllWindows()



